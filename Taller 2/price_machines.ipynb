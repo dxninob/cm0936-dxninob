{
  "cells": [
    {
      "cell_type": "code",
      "execution_count": 1,
      "metadata": {
        "colab": {
          "base_uri": "https://localhost:8080/"
        },
        "id": "nx8Qp_JJ3e4i",
        "outputId": "858a931b-e3ae-401c-daa4-2e7ae2149235"
      },
      "outputs": [
        {
          "name": "stdout",
          "output_type": "stream",
          "text": [
            "El precio por hora de los procesadores son:\n",
            "A = 40.00000000000014\n",
            "B = 9.999999999999844\n",
            "C = 20.000000000000075\n"
          ]
        }
      ],
      "source": [
        "import numpy as np\n",
        "from numpy import linalg\n",
        "\n",
        "A = np.array([[  2, 4, 5],\n",
        "              [  6, 9, 8],\n",
        "              [4.1, 5, 3]])\n",
        "b = np.array([220, 490, 274])\n",
        "x = np.linalg.solve(A, b)\n",
        "\n",
        "print('El precio por hora de los procesadores son:')\n",
        "print('A =', x[0])\n",
        "print('B =', x[1])\n",
        "print('C =', x[2])"
      ]
    },
    {
      "cell_type": "code",
      "execution_count": 2,
      "metadata": {
        "colab": {
          "base_uri": "https://localhost:8080/"
        },
        "id": "-wcEGG3u4a86",
        "outputId": "19ee1ac5-891f-454a-e817-3f57b909d3f9"
      },
      "outputs": [
        {
          "name": "stdout",
          "output_type": "stream",
          "text": [
            "El nuevo precio por hora de los procesadores son:\n",
            "A = 20.0\n",
            "B = 31.538461538461533\n",
            "C = 10.769230769230775\n"
          ]
        }
      ],
      "source": [
        "A_new = np.array([[  2, 4, 5],\n",
        "                  [  6, 9, 8],\n",
        "                  [4.2, 5, 3]])\n",
        "x_new = np.linalg.solve(A_new, b)\n",
        "\n",
        "print('El nuevo precio por hora de los procesadores son:')\n",
        "print('A =', x_new[0])\n",
        "print('B =', x_new[1])\n",
        "print('C =', x_new[2])"
      ]
    },
    {
      "cell_type": "markdown",
      "metadata": {
        "id": "OAnPQXbV8ERh"
      },
      "source": [
        "El diferencia entre los precios es muy grande, pues por un cambio de 0,1, el valor del procesador B varió alrededor de 20 unidades y el del procesador C varió alrededor de 10 unidades. Este cambio tan grande se debe a que este sistema de ecuaciones está mal condicionado."
      ]
    },
    {
      "cell_type": "code",
      "execution_count": 3,
      "metadata": {
        "colab": {
          "base_uri": "https://localhost:8080/"
        },
        "id": "uWNKr6pV8Df5",
        "outputId": "6015ab04-5853-4c4e-87c6-5871480667e2"
      },
      "outputs": [
        {
          "name": "stdout",
          "output_type": "stream",
          "text": [
            "La cota superior para el error relativo en la solución es de 3.3307692307692514, es decir, 333.07692307692514%\n"
          ]
        }
      ],
      "source": [
        "# Error relativo en la solución\n",
        "cond_A = linalg.norm(A, np.inf)*linalg.norm(linalg.inv(A), np.inf)\n",
        "error = linalg.norm(A_new-A, np.inf)/linalg.norm(A_new, np.inf)\n",
        "bound = cond_A*error\n",
        "print(f'La cota superior para el error relativo en la solución es de {bound}, es decir, {bound*100}%')"
      ]
    },
    {
      "cell_type": "code",
      "execution_count": 4,
      "metadata": {
        "colab": {
          "base_uri": "https://localhost:8080/"
        },
        "id": "NODsMBUTG31K",
        "outputId": "872222d2-ba54-4b9a-e73d-4a24d44131e8"
      },
      "outputs": [
        {
          "name": "stdout",
          "output_type": "stream",
          "text": [
            "La cota superior para el error relativo en el valor de la hora en los procesadores es de 0.6829268292682976, es decir, 68.29268292682976%\n"
          ]
        }
      ],
      "source": [
        "# Error relativo en la solución\n",
        "error = linalg.norm(x_new-x, np.inf)/linalg.norm(x_new, np.inf)\n",
        "print(f'La cota superior para el error relativo en el valor de la hora en los procesadores es de {error}, es decir, {error*100}%')"
      ]
    }
  ],
  "metadata": {
    "colab": {
      "provenance": []
    },
    "kernelspec": {
      "display_name": "Python 3",
      "name": "python3"
    },
    "language_info": {
      "codemirror_mode": {
        "name": "ipython",
        "version": 3
      },
      "file_extension": ".py",
      "mimetype": "text/x-python",
      "name": "python",
      "nbconvert_exporter": "python",
      "pygments_lexer": "ipython3",
      "version": "3.10.2"
    }
  },
  "nbformat": 4,
  "nbformat_minor": 0
}
